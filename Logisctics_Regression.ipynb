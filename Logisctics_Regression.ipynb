{
 "cells": [
  {
   "cell_type": "markdown",
   "id": "f225dc31-7ce0-49f4-95b4-0c99f2ddf9a3",
   "metadata": {},
   "source": [
    "## Logisctics regression"
   ]
  },
  {
   "cell_type": "markdown",
   "id": "8f16dc24-144b-49f6-8ed7-48026dce5aed",
   "metadata": {},
   "source": [
    "probability of events"
   ]
  },
  {
   "cell_type": "code",
   "execution_count": 8,
   "id": "ae401780-4a7d-44f0-9ee9-e3203d00371d",
   "metadata": {},
   "outputs": [
    {
     "name": "stdout",
     "output_type": "stream",
     "text": [
      "Requirement already satisfied: pandas in c:\\users\\sweta\\appdata\\local\\programs\\python\\python312\\lib\\site-packages (2.2.2)\n",
      "Requirement already satisfied: numpy in c:\\users\\sweta\\appdata\\local\\programs\\python\\python312\\lib\\site-packages (1.26.4)\n",
      "Requirement already satisfied: statsmodels in c:\\users\\sweta\\appdata\\local\\programs\\python\\python312\\lib\\site-packages (0.14.2)\n",
      "Requirement already satisfied: scikit-learn in c:\\users\\sweta\\appdata\\local\\programs\\python\\python312\\lib\\site-packages (1.5.1)\n",
      "Requirement already satisfied: matplotlib in c:\\users\\sweta\\appdata\\local\\programs\\python\\python312\\lib\\site-packages (3.9.2)\n",
      "Requirement already satisfied: python-dateutil>=2.8.2 in c:\\users\\sweta\\appdata\\local\\programs\\python\\python312\\lib\\site-packages (from pandas) (2.9.0.post0)\n",
      "Requirement already satisfied: pytz>=2020.1 in c:\\users\\sweta\\appdata\\local\\programs\\python\\python312\\lib\\site-packages (from pandas) (2024.1)\n",
      "Requirement already satisfied: tzdata>=2022.7 in c:\\users\\sweta\\appdata\\local\\programs\\python\\python312\\lib\\site-packages (from pandas) (2024.1)\n",
      "Requirement already satisfied: scipy!=1.9.2,>=1.8 in c:\\users\\sweta\\appdata\\local\\programs\\python\\python312\\lib\\site-packages (from statsmodels) (1.13.1)\n",
      "Requirement already satisfied: patsy>=0.5.6 in c:\\users\\sweta\\appdata\\local\\programs\\python\\python312\\lib\\site-packages (from statsmodels) (0.5.6)\n",
      "Requirement already satisfied: packaging>=21.3 in c:\\users\\sweta\\appdata\\local\\programs\\python\\python312\\lib\\site-packages (from statsmodels) (24.1)\n",
      "Requirement already satisfied: joblib>=1.2.0 in c:\\users\\sweta\\appdata\\local\\programs\\python\\python312\\lib\\site-packages (from scikit-learn) (1.4.2)\n",
      "Requirement already satisfied: threadpoolctl>=3.1.0 in c:\\users\\sweta\\appdata\\local\\programs\\python\\python312\\lib\\site-packages (from scikit-learn) (3.5.0)\n",
      "Requirement already satisfied: contourpy>=1.0.1 in c:\\users\\sweta\\appdata\\local\\programs\\python\\python312\\lib\\site-packages (from matplotlib) (1.2.1)\n",
      "Requirement already satisfied: cycler>=0.10 in c:\\users\\sweta\\appdata\\local\\programs\\python\\python312\\lib\\site-packages (from matplotlib) (0.12.1)\n",
      "Requirement already satisfied: fonttools>=4.22.0 in c:\\users\\sweta\\appdata\\local\\programs\\python\\python312\\lib\\site-packages (from matplotlib) (4.53.1)\n",
      "Requirement already satisfied: kiwisolver>=1.3.1 in c:\\users\\sweta\\appdata\\local\\programs\\python\\python312\\lib\\site-packages (from matplotlib) (1.4.5)\n",
      "Requirement already satisfied: pillow>=8 in c:\\users\\sweta\\appdata\\local\\programs\\python\\python312\\lib\\site-packages (from matplotlib) (10.4.0)\n",
      "Requirement already satisfied: pyparsing>=2.3.1 in c:\\users\\sweta\\appdata\\local\\programs\\python\\python312\\lib\\site-packages (from matplotlib) (3.1.4)\n",
      "Requirement already satisfied: six in c:\\users\\sweta\\appdata\\local\\programs\\python\\python312\\lib\\site-packages (from patsy>=0.5.6->statsmodels) (1.16.0)\n"
     ]
    }
   ],
   "source": [
    "!pip install pandas numpy statsmodels scikit-learn matplotlib"
   ]
  },
  {
   "cell_type": "code",
   "execution_count": 12,
   "id": "e117bcae-a0d4-4a0a-9ae1-d40b6a990b4c",
   "metadata": {},
   "outputs": [
    {
     "name": "stdout",
     "output_type": "stream",
     "text": [
      "Requirement already satisfied: openpyxl in c:\\users\\sweta\\appdata\\local\\programs\\python\\python312\\lib\\site-packages (3.1.5)\n",
      "Requirement already satisfied: et-xmlfile in c:\\users\\sweta\\appdata\\local\\programs\\python\\python312\\lib\\site-packages (from openpyxl) (1.1.0)\n"
     ]
    }
   ],
   "source": [
    "!pip install openpyxl --upgrade"
   ]
  },
  {
   "cell_type": "code",
   "execution_count": 1,
   "id": "5ee98e75-9dff-4c5f-8fa2-d49b667580e0",
   "metadata": {},
   "outputs": [],
   "source": [
    "import pandas as pd\n",
    "import numpy as np\n",
    "import statsmodels.api as sm\n",
    "from sklearn.model_selection import train_test_split\n",
    "from sklearn.linear_model import LogisticRegression\n",
    "from sklearn.metrics import confusion_matrix, classification_report, roc_curve, auc,accuracy_score,roc_auc_score\n",
    "import matplotlib.pyplot as plt"
   ]
  },
  {
   "cell_type": "code",
   "execution_count": 2,
   "id": "8819c388-03f5-4702-bae9-27bcfc9d973b",
   "metadata": {},
   "outputs": [
    {
     "name": "stdout",
     "output_type": "stream",
     "text": [
      "    hrs  pass\n",
      "0  0.50     0\n",
      "1  0.75     0\n",
      "2  1.00     0\n",
      "3  1.25     0\n",
      "4  1.50     0\n"
     ]
    }
   ],
   "source": [
    "# Replace with your actual data file path\n",
    "data = pd.read_excel(\"week3data.xlsx\")  # Load your dataset\n",
    "print(data.head())  # Display the first few rows of the dataset"
   ]
  },
  {
   "cell_type": "code",
   "execution_count": 3,
   "id": "cf05f51f-99b7-4b29-abfe-41658259f947",
   "metadata": {},
   "outputs": [
    {
     "data": {
      "image/png": "[encoded data removed]",
      "text/plain": [
       "<Figure size 640x480 with 1 Axes>"
      ]
     },
     "metadata": {},
     "output_type": "display_data"
    }
   ],
   "source": [
    "# Plotting the data\n",
    "plt.scatter(data['hrs'], data['pass'], color='blue')\n",
    "plt.xlabel('Hours of Study')\n",
    "plt.ylabel('pass(0 = Fail, 1 = Pass)')\n",
    "plt.title('Study Hours vs Pass')\n",
    "plt.show()"
   ]
  },
  {
   "cell_type": "code",
   "execution_count": 4,
   "id": "b703c0ed-60c9-4442-9adf-b45aa86bfeba",
   "metadata": {},
   "outputs": [
    {
     "name": "stdout",
     "output_type": "stream",
     "text": [
      "Optimization terminated successfully.\n",
      "         Current function value: 0.401494\n",
      "         Iterations 7\n",
      "                           Logit Regression Results                           \n",
      "==============================================================================\n",
      "Dep. Variable:                   pass   No. Observations:                   20\n",
      "Model:                          Logit   Df Residuals:                       18\n",
      "Method:                           MLE   Df Model:                            1\n",
      "Date:                Mon, 16 Sep 2024   Pseudo R-squ.:                  0.4208\n",
      "Time:                        09:46:19   Log-Likelihood:                -8.0299\n",
      "converged:                       True   LL-Null:                       -13.863\n",
      "Covariance Type:            nonrobust   LLR p-value:                 0.0006365\n",
      "==============================================================================\n",
      "                 coef    std err          z      P>|z|      [0.025      0.975]\n",
      "------------------------------------------------------------------------------\n",
      "const         -4.0777      1.761     -2.316      0.021      -7.529      -0.626\n",
      "hrs            1.5046      0.629      2.393      0.017       0.272       2.737\n",
      "==============================================================================\n"
     ]
    }
   ],
   "source": [
    "# Define the independent variable (Hours) and the dependent variable (Pass)\n",
    "X = data['hrs']\n",
    "y = data['pass']\n",
    "\n",
    "# Add a constant to the independent variable matrix\n",
    "X = sm.add_constant(X)\n",
    "\n",
    "# Fit the logistic regression model\n",
    "model = sm.Logit(y, X).fit()\n",
    "\n",
    "# Print the model summary\n",
    "print(model.summary())"
   ]
  },
  {
   "cell_type": "code",
   "execution_count": 5,
   "id": "59de5689-9a2a-44ad-b766-9b6df3c7fc89",
   "metadata": {},
   "outputs": [],
   "source": [
    "# null hypothesis = kei effect bhako choina --0 . There is significance effect in hours to pass."
   ]
  },
  {
   "cell_type": "code",
   "execution_count": 6,
   "id": "36329bca-efb2-4491-98ee-659fb5c69a63",
   "metadata": {},
   "outputs": [],
   "source": [
    "# CLASSIFICATION PROBLEM - r sqaure"
   ]
  },
  {
   "cell_type": "code",
   "execution_count": 9,
   "id": "21ff93dd-f4aa-42ea-9fa5-74558af4b1e6",
   "metadata": {},
   "outputs": [],
   "source": [
    "# b0 and b1 ko value kasre aaucha- value ko minimize - YESMA ERROR- MLE - testo value of b0 and b1 testo proability maximum garni "
   ]
  },
  {
   "cell_type": "code",
   "execution_count": 11,
   "id": "e4842e84-2d7b-4029-b077-b590d06d6d7a",
   "metadata": {},
   "outputs": [],
   "source": [
    "# FULLL model = sbai b0 and b1 - final model\n",
    "# NULL Model = kunai parameter nahali banako model- avearge accuracy"
   ]
  },
  {
   "cell_type": "code",
   "execution_count": 13,
   "id": "6bf7e5e9-3da2-4982-b742-e395955d0626",
   "metadata": {},
   "outputs": [],
   "source": [
    " # LLR p-value:                 0.0006365 - fit gareko choina bhen"
   ]
  },
  {
   "cell_type": "code",
   "execution_count": 14,
   "id": "0940e17e-0618-472f-836d-13640dcc7c0e",
   "metadata": {},
   "outputs": [],
   "source": [
    "# odds = np.exo(model.params)\n",
    "# conf = np.\n",
    "\n"
   ]
  },
  {
   "cell_type": "code",
   "execution_count": 15,
   "id": "87192f94-fc77-45f6-9dc8-0242acf305f4",
   "metadata": {},
   "outputs": [],
   "source": [
    "# 1 unit le padhyo bhane 1.31% le pass huni chance badi huncha"
   ]
  },
  {
   "cell_type": "code",
   "execution_count": 16,
   "id": "32eede28-8e72-417c-a63a-c6d3368d9c9b",
   "metadata": {},
   "outputs": [],
   "source": [
    "# AIC AND BIC == LOW BHAKO RAMRO"
   ]
  },
  {
   "cell_type": "code",
   "execution_count": 17,
   "id": "de21abc7-7f6c-4f1d-bcc5-ac8e72892f81",
   "metadata": {},
   "outputs": [],
   "source": [
    "# CLASSIFIER ==confusion matrix"
   ]
  },
  {
   "cell_type": "code",
   "execution_count": 19,
   "id": "5e71044a-3af8-4556-9a60-0e1846333c75",
   "metadata": {},
   "outputs": [],
   "source": [
    "CLASSIFIER\n",
    "# FALSE NEGATIVE = hunu parni 1 thyo 0 aayo \n",
    "# 1THYO 1 NAI = TRUE POSITIVE\n",
    "# O THYO 1 = FALSE POSTIVE\n",
    "# 1 THYO 0 = TRUE NEGATIVE"
   ]
  },
  {
   "cell_type": "code",
   "execution_count": 20,
   "id": "0ccc2297-04b8-4e7d-8872-133bb16f888d",
   "metadata": {},
   "outputs": [],
   "source": [
    "# OVERFITTING KO PROBELM -- TEI DATA MATRA BUJNA SAKCHA"
   ]
  },
  {
   "cell_type": "code",
   "execution_count": 21,
   "id": "be7eb758-4f16-432f-aa0c-fad42dd945d3",
   "metadata": {},
   "outputs": [
    {
     "name": "stdout",
     "output_type": "stream",
     "text": [
      "Odds Ratios and 95% Confidence Intervals:\n",
      "            2.5%      97.5%  Odds Ratio\n",
      "const  0.000537   0.534605    0.016946\n",
      "hrs    1.313080  15.439291    4.502557\n"
     ]
    }
   ],
   "source": [
    "# Odds ratios and 95% CI\n",
    "odds_ratios = np.exp(model.params)\n",
    "conf = np.exp(model.conf_int())\n",
    "conf['OR'] = odds_ratios\n",
    "\n",
    "# Renaming columns for better clarity\n",
    "conf.columns = ['2.5%', '97.5%', 'Odds Ratio']\n",
    "print(\"Odds Ratios and 95% Confidence Intervals:\\n\", conf)"
   ]
  },
  {
   "cell_type": "code",
   "execution_count": 22,
   "id": "fcee51a3-d6b1-4c3c-9656-c09494077120",
   "metadata": {},
   "outputs": [],
   "source": [
    "# Predicting probabilities and binary outcome\n",
    "y_pred_prob = model.predict(X)\n",
    "y_pred = (y_pred_prob >= 0.5).astype(int)"
   ]
  },
  {
   "cell_type": "code",
   "execution_count": 23,
   "id": "c477b196-5187-48c4-9f7d-d1bd05b705b5",
   "metadata": {},
   "outputs": [
    {
     "data": {
      "text/plain": [
       "(0     0.034710\n",
       " 1     0.049773\n",
       " 2     0.070892\n",
       " 3     0.100029\n",
       " 4     0.139344\n",
       " 5     0.190837\n",
       " 6     0.190837\n",
       " 7     0.255703\n",
       " 8     0.333530\n",
       " 9     0.421627\n",
       " 10    0.515011\n",
       " 11    0.607359\n",
       " 12    0.692617\n",
       " 13    0.766481\n",
       " 14    0.874448\n",
       " 15    0.910278\n",
       " 16    0.936624\n",
       " 17    0.955611\n",
       " 18    0.969097\n",
       " 19    0.985194\n",
       " dtype: float64,\n",
       " 0     0\n",
       " 1     0\n",
       " 2     0\n",
       " 3     0\n",
       " 4     0\n",
       " 5     0\n",
       " 6     0\n",
       " 7     0\n",
       " 8     0\n",
       " 9     0\n",
       " 10    1\n",
       " 11    1\n",
       " 12    1\n",
       " 13    1\n",
       " 14    1\n",
       " 15    1\n",
       " 16    1\n",
       " 17    1\n",
       " 18    1\n",
       " 19    1\n",
       " dtype: int32)"
      ]
     },
     "execution_count": 23,
     "metadata": {},
     "output_type": "execute_result"
    }
   ],
   "source": [
    "y_pred_prob,y_pred"
   ]
  },
  {
   "cell_type": "code",
   "execution_count": 24,
   "id": "169f5bd3-bccc-4dc7-b19b-972a2e9d25b1",
   "metadata": {},
   "outputs": [
    {
     "name": "stdout",
     "output_type": "stream",
     "text": [
      "\n",
      "Confusion Matrix:\n",
      " [[8 2]\n",
      " [2 8]]\n"
     ]
    }
   ],
   "source": [
    "cm = confusion_matrix(y, y_pred)\n",
    "print(\"\\nConfusion Matrix:\\n\", cm)"
   ]
  },
  {
   "cell_type": "code",
   "execution_count": 26,
   "id": "3fd06ce5-9e8a-4585-ad88-eed1b2036e8f",
   "metadata": {},
   "outputs": [],
   "source": [
    "# Sensitivity and Specificity\n",
    "tn, fp, fn, tp = cm.ravel()\n",
    "sensitivity = tp / (tp + fn)\n",
    "specificity = tn / (tn + fp)\n",
    "accuracy = accuracy_score(y, y_pred)\n",
    "\n"
   ]
  },
  {
   "cell_type": "code",
   "execution_count": 27,
   "id": "ca5a5b6c-d731-4a98-9671-4effa0471a92",
   "metadata": {},
   "outputs": [
    {
     "name": "stdout",
     "output_type": "stream",
     "text": [
      "\n",
      "Sensitivity (True Positive Rate): 0.80\n",
      "Specificity (True Negative Rate): 0.80\n",
      "Accuracy: 0.80\n"
     ]
    }
   ],
   "source": [
    "print(f\"\\nSensitivity (True Positive Rate): {sensitivity:.2f}\")\n",
    "print(f\"Specificity (True Negative Rate): {specificity:.2f}\")\n",
    "print(f\"Accuracy: {accuracy:.2f}\")\n"
   ]
  },
  {
   "cell_type": "code",
   "execution_count": 28,
   "id": "27f5e739-2431-4fbc-8c00-ffaa6555788a",
   "metadata": {},
   "outputs": [],
   "source": [
    "# THRESHOLD = 0. 5=IF(C2>=0.5, 1,0) "
   ]
  },
  {
   "cell_type": "code",
   "execution_count": 30,
   "id": "a948b639-f935-416d-bd3f-7d1e60d3333d",
   "metadata": {},
   "outputs": [],
   "source": [
    "# ROC curve\n",
    "fpr, tpr, thresholds = roc_curve(y, y_pred_prob)\n",
    "roc_auc = auc(fpr, tpr)\n"
   ]
  },
  {
   "cell_type": "code",
   "execution_count": 31,
   "id": "7a454c55-7ab6-46f4-8783-8e71afa06126",
   "metadata": {},
   "outputs": [
    {
     "data": {
      "text/plain": [
       "(array([0. , 0. , 0. , 0.1, 0.1, 0.2, 0.2, 0.3, 0.3, 0.4, 0.5, 1. ]),\n",
       " array([0. , 0.1, 0.6, 0.6, 0.7, 0.7, 0.8, 0.8, 0.9, 0.9, 1. , 1. ]),\n",
       " array([       inf, 0.98519444, 0.8744475 , 0.76648084, 0.69261733,\n",
       "        0.60735865, 0.51501086, 0.42162653, 0.33353024, 0.25570318,\n",
       "        0.1908365 , 0.03471034]))"
      ]
     },
     "execution_count": 31,
     "metadata": {},
     "output_type": "execute_result"
    }
   ],
   "source": [
    "roc_curve(y,y_pred_prob)"
   ]
  },
  {
   "cell_type": "code",
   "execution_count": 32,
   "id": "fd0a67ed-0103-47b4-a316-c2927ce82bbf",
   "metadata": {},
   "outputs": [
    {
     "data": {
      "image/png": "[encoded data removed]",
      "text/plain": [
       "<Figure size 640x480 with 1 Axes>"
      ]
     },
     "metadata": {},
     "output_type": "display_data"
    },
    {
     "name": "stdout",
     "output_type": "stream",
     "text": [
      "ROC AUC Score:  0.895\n"
     ]
    }
   ],
   "source": [
    "# Plot ROC curve\n",
    "plt.figure()\n",
    "plt.plot(fpr, tpr, color='darkorange', lw=2, label='ROC curve (area = %0.2f)' % roc_auc)\n",
    "plt.plot([0, 1], [0, 1], color='navy', lw=2, linestyle='--')\n",
    "plt.xlim([0.0, 1.0])\n",
    "plt.ylim([0.0, 1.05])\n",
    "plt.xlabel('False Positive Rate')\n",
    "plt.ylabel('True Positive Rate')\n",
    "plt.title('Receiver Operating Characteristic')\n",
    "plt.legend(loc=\"lower right\")\n",
    "plt.show()\n",
    "\n",
    "# ROC AUC score\n",
    "print(\"ROC AUC Score: \", roc_auc_score(y, y_pred_prob))"
   ]
  },
  {
   "cell_type": "code",
   "execution_count": 33,
   "id": "dd2480c2-c531-4482-8795-95225dcf5aaf",
   "metadata": {},
   "outputs": [],
   "source": [
    "# AUC IS GREATHER THAN 0.7, OUR MODEL PREDICTION GARNA SAKINCHA"
   ]
  },
  {
   "cell_type": "code",
   "execution_count": null,
   "id": "71fcf7c9-f33f-429f-a03c-f5eb506927cd",
   "metadata": {},
   "outputs": [],
   "source": []
  }
 ],
 "metadata": {
  "kernelspec": {
   "display_name": "Python 3 (ipykernel)",
   "language": "python",
   "name": "python3"
  },
  "language_info": {
   "codemirror_mode": {
    "name": "ipython",
    "version": 3
   },
   "file_extension": ".py",
   "mimetype": "text/x-python",
   "name": "python",
   "nbconvert_exporter": "python",
   "pygments_lexer": "ipython3",
   "version": "3.12.3"
  }
 },
 "nbformat": 4,
 "nbformat_minor": 5
}
